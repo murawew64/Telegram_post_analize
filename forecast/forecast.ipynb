{
 "cells": [
  {
   "cell_type": "code",
   "execution_count": 69,
   "metadata": {},
   "outputs": [
    {
     "name": "stdout",
     "output_type": "stream",
     "text": [
      "The autoreload extension is already loaded. To reload it, use:\n",
      "  %reload_ext autoreload\n"
     ]
    }
   ],
   "source": [
    "import pandas as pd\n",
    "import numpy as np\n",
    "import tqdm # interactive progress bar\n",
    "\n",
    "import matplotlib.pyplot as plt\n",
    "import seaborn as sns; sns.set()\n",
    "\n",
    "%matplotlib inline\n",
    "\n",
    "# see http://stackoverflow.com/questions/1907993/autoreload-of-modules-in-ipython\n",
    "%load_ext autoreload\n",
    "%autoreload 2"
   ]
  },
  {
   "cell_type": "code",
   "execution_count": 70,
   "metadata": {},
   "outputs": [],
   "source": [
    "train_df = pd.read_csv('data/final_train.csv')"
   ]
  },
  {
   "cell_type": "code",
   "execution_count": 71,
   "metadata": {},
   "outputs": [
    {
     "name": "stdout",
     "output_type": "stream",
     "text": [
      "(5405, 2)\n"
     ]
    }
   ],
   "source": [
    "print(train_df.shape)"
   ]
  },
  {
   "cell_type": "code",
   "execution_count": 72,
   "metadata": {},
   "outputs": [
    {
     "data": {
      "text/plain": [
       "1    0.548566\n",
       "0    0.451434\n",
       "Name: up_class, dtype: float64"
      ]
     },
     "execution_count": 72,
     "metadata": {},
     "output_type": "execute_result"
    }
   ],
   "source": [
    "train_df['up_class'].value_counts(normalize=True)"
   ]
  },
  {
   "cell_type": "code",
   "execution_count": 73,
   "metadata": {},
   "outputs": [],
   "source": [
    "review_summaries = list(train_df['content'].values)\n",
    "review_summaries = [l.lower() for l in review_summaries]"
   ]
  },
  {
   "cell_type": "code",
   "execution_count": 74,
   "metadata": {},
   "outputs": [
    {
     "data": {
      "text/plain": [
       "5405"
      ]
     },
     "execution_count": 74,
     "metadata": {},
     "output_type": "execute_result"
    }
   ],
   "source": [
    "len(review_summaries)"
   ]
  },
  {
   "cell_type": "code",
   "execution_count": 75,
   "metadata": {},
   "outputs": [
    {
     "data": {
      "text/plain": [
       "['главное по секторам российского рынка   нефтегазовый сектор  buy. все внимание инвесторов приковано к очередному собранию опек+, которое пройдет уже ноября. а пока нефть продолжает находиться вблизи 7-летних максимумов на фоне сохранения сильного спроса.    уран  buy. повестка развития атомной энергетики продолжает набирать обороты. уже европейских стран поддерживают включение атомной энергетики в список зеленых источников энергии. китай планирует построить еще ядерных реакторов к году, это в раза больше, чем есть в стране сейчас.   сельхоз сектор  buy. из-за энергокризиса в европе резко выросли цены на удобрения. это может привести к снижению урожайности и еще большему росту цен на сельхозпродукцию. российские аграрии выигрывают от роста цен на удобрения, так как договорились с производителями о фиксации цен до конца года.   девелопмент  buy. российский рынок недвижимости имеет кратный потенциал роста - низкая обеспеченность кв.м. и старый жилищный фонд. в следующие лет спрос на недвижимость может превысить предложение почти вдвое, что  может привести к росту цен на квартиры. помимо этого в секторе происходит консолидация - по некоторым прогнозам число игроков на рынке может сократиться в раза. крупные игроки будут увеличивать свою долю на рынке, что положительно скажется на их финансовых результатах   удобрения  buy. введенные квоты на экспорт азотных и азотосодержащих удобрений скорее направлены на то, чтобы производители не увеличивали экспорт за счет сокращения импорта. рынок отреагировал излишне на эту новость, поскольку риски вследствие введения квот минимальны. таким вариантом в частности является фосагро , у которого существенная доля удобрений > в выручке фосфорные - не подпадающие под квоты.',\n",
       " 'фосагро  торгуется дешевле своих крупных мировых аналогов. по мультипликатору p/e года фосагро оценивается вx, средняя оценка крупных производителей удобрений в мире —x.   справедливая стоимость акций фосагро phor 7417,руб., апсайд ',\n",
       " 'фосагро   справедливая стоимость руб., апсайд .  рыночная цена акций стремится к их справедливой цене',\n",
       " 'введение экспортных квот снижает оценку фосагро  всего на , а акции падают на  — реакция рынка избыточна.  какая складывается ситуация? на период с декабря по июня правительство ограничивает экспорт   азотных удобрений на уровне не более т.  сложных включающих азот на уровне не более т.  что это может значить для фосагро? фосагро может перенаправить  азотных и  сложных удобрений на внутренний рынок, цены на котором на ~ ниже экспортных.  это приведет к снижению прибыли компании за следующие мес. на млрд руб  прибыли за этот период, посчитал источник рдв.  фосагро единоразово недополучит млрд руб. прибыли — это всего  капитализации компании. акции фосагро падают на , что может оказаться избыточной реакцией рынка.',\n",
       " 'газпром  не стал бронировать мощности по транзиту газа через украину и польшу на год.']"
      ]
     },
     "execution_count": 75,
     "metadata": {},
     "output_type": "execute_result"
    }
   ],
   "source": [
    "review_summaries[:5]"
   ]
  },
  {
   "cell_type": "code",
   "execution_count": 91,
   "metadata": {},
   "outputs": [],
   "source": [
    "from sklearn.feature_extraction.text import TfidfVectorizer"
   ]
  },
  {
   "cell_type": "code",
   "execution_count": 92,
   "metadata": {},
   "outputs": [
    {
     "data": {
      "text/plain": [
       "(5405, 19175)"
      ]
     },
     "execution_count": 92,
     "metadata": {},
     "output_type": "execute_result"
    }
   ],
   "source": [
    "vectorizer = TfidfVectorizer()\n",
    "tfidfed = vectorizer.fit_transform(review_summaries)\n",
    "tfidfed.shape"
   ]
  },
  {
   "cell_type": "code",
   "execution_count": 93,
   "metadata": {},
   "outputs": [],
   "source": [
    "from sklearn.model_selection import train_test_split"
   ]
  },
  {
   "cell_type": "code",
   "execution_count": 94,
   "metadata": {},
   "outputs": [],
   "source": [
    "X = tfidfed\n",
    "y = train_df['up_class'].values\n",
    "X_train, X_test, y_train, y_test = train_test_split(X, y, train_size=0.7, random_state=42)"
   ]
  },
  {
   "cell_type": "code",
   "execution_count": 95,
   "metadata": {},
   "outputs": [],
   "source": [
    "from dmia.gradient_check import *\n",
    "from dmia.classifiers.logistic_regression import LogisticRegression\n",
    "from sklearn.model_selection import train_test_split\n",
    "from sklearn.metrics import accuracy_score"
   ]
  },
  {
   "cell_type": "code",
   "execution_count": 82,
   "metadata": {},
   "outputs": [
    {
     "name": "stdout",
     "output_type": "stream",
     "text": [
      "1.4187189591573302\n",
      "[-5.16852997e-05  0.00000000e+00  0.00000000e+00 ...  0.00000000e+00\n",
      "  0.00000000e+00  2.78749133e-01]\n",
      "[-0.00083049 -0.00081173 -0.00073613 ...  0.01386871  0.03042102\n",
      "  0.27874913]\n"
     ]
    }
   ],
   "source": [
    "X_train_sample = X_train[:1000]\n",
    "y_train_sample = y_train[:1000]\n",
    "clf = LogisticRegression()\n",
    "clf.w = np.random.randn(X_train_sample.shape[1]+1) * 2\n",
    "loss, grad = clf.loss(LogisticRegression.append_biases(X_train_sample), y_train_sample, 0.0)\n",
    "\n",
    "print(loss)\n",
    "print(grad)\n",
    "print(np.unique(grad))"
   ]
  },
  {
   "cell_type": "code",
   "execution_count": 83,
   "metadata": {},
   "outputs": [
    {
     "name": "stdout",
     "output_type": "stream",
     "text": [
      "numerical: 0.000193 analytic: 0.000193, relative error: 4.319142e-08\n",
      "numerical: 0.000000 analytic: 0.000000, relative error: nan\n",
      "numerical: 0.000091 analytic: 0.000091, relative error: 9.912909e-08\n",
      "numerical: -0.000319 analytic: -0.000319, relative error: 3.873322e-09\n",
      "numerical: 0.000111 analytic: 0.000111, relative error: 5.399079e-08\n",
      "numerical: 0.000213 analytic: 0.000213, relative error: 4.056570e-08\n",
      "numerical: 0.000000 analytic: 0.000000, relative error: nan\n",
      "numerical: -0.000041 analytic: -0.000041, relative error: 1.876432e-07\n",
      "numerical: 0.000000 analytic: 0.000000, relative error: nan\n",
      "numerical: 0.000000 analytic: 0.000000, relative error: nan\n"
     ]
    },
    {
     "name": "stderr",
     "output_type": "stream",
     "text": [
      "d:\\program1\\Projects\\Lemtuznicova news\\forecast\\dmia\\gradient_check.py:51: RuntimeWarning: invalid value encountered in double_scalars\n",
      "  abs(grad_numerical) + abs(grad_analytic))\n",
      "d:\\program1\\Projects\\Lemtuznicova news\\forecast\\dmia\\gradient_check.py:51: RuntimeWarning: invalid value encountered in double_scalars\n",
      "  abs(grad_numerical) + abs(grad_analytic))\n",
      "d:\\program1\\Projects\\Lemtuznicova news\\forecast\\dmia\\gradient_check.py:51: RuntimeWarning: invalid value encountered in double_scalars\n",
      "  abs(grad_numerical) + abs(grad_analytic))\n",
      "d:\\program1\\Projects\\Lemtuznicova news\\forecast\\dmia\\gradient_check.py:51: RuntimeWarning: invalid value encountered in double_scalars\n",
      "  abs(grad_numerical) + abs(grad_analytic))\n"
     ]
    }
   ],
   "source": [
    "# Numerically compute the gradient along several randomly chosen dimensions, and\n",
    "# compare them with your analytically computed gradient. The numbers should match\n",
    "# almost exactly along all dimensions.\n",
    "f = lambda w: clf.loss(LogisticRegression.append_biases(X_train_sample), y_train_sample, 0.0)[0]\n",
    "grad_numerical = grad_check_sparse(f, clf.w, grad, 10)"
   ]
  },
  {
   "cell_type": "code",
   "execution_count": 84,
   "metadata": {},
   "outputs": [
    {
     "name": "stdout",
     "output_type": "stream",
     "text": [
      "(3783, 19175)\n"
     ]
    }
   ],
   "source": [
    "print(X_train.shape)"
   ]
  },
  {
   "cell_type": "code",
   "execution_count": 108,
   "metadata": {},
   "outputs": [
    {
     "name": "stderr",
     "output_type": "stream",
     "text": [
      "100%|██████████| 10000/10000 [04:06<00:00, 40.57it/s]\n"
     ]
    }
   ],
   "source": [
    "clf = LogisticRegression()\n",
    "train_scores = []\n",
    "test_scores = []\n",
    "num_iters = 10000\n",
    "\n",
    "for i in tqdm.trange(num_iters):\n",
    "    # Сделайте один шаг градиентного спуска с помощью num_iters=1\n",
    "    clf.train(X_train, y_train, learning_rate=1.0, num_iters=1, batch_size=256, reg=1e-3)\n",
    "    train_scores.append(accuracy_score(y_train, clf.predict(X_train)))\n",
    "    test_scores.append(accuracy_score(y_test, clf.predict(X_test)))"
   ]
  },
  {
   "cell_type": "code",
   "execution_count": 109,
   "metadata": {},
   "outputs": [
    {
     "data": {
      "text/plain": [
       "<matplotlib.legend.Legend at 0x1aaf1b03148>"
      ]
     },
     "execution_count": 109,
     "metadata": {},
     "output_type": "execute_result"
    },
    {
     "data": {
      "image/png": "[encoded data removed]",
      "text/plain": [
       "<Figure size 720x576 with 1 Axes>"
      ]
     },
     "metadata": {
      "needs_background": "light"
     },
     "output_type": "display_data"
    }
   ],
   "source": [
    "plt.figure(figsize=(10,8))\n",
    "plt.plot(train_scores, 'r', label='train')\n",
    "plt.plot(test_scores, 'b', label='test')\n",
    "plt.legend()"
   ]
  },
  {
   "cell_type": "code",
   "execution_count": 110,
   "metadata": {},
   "outputs": [
    {
     "name": "stdout",
     "output_type": "stream",
     "text": [
      "[18870  5937 11417  2428  1751  3558  1324 16826  9414  8167 11878  1319\n",
      "  2405  1961  6819 13333 15141  5058 16708  5017  9451    81 16052  2172\n",
      "  2671  1841  1609 11575 14856 13940  8399 13376  1608  1648  3730 15131\n",
      " 14325 18974   798 15942  1591  2126 16169 14816 12244  7488  3684 18469\n",
      "  6016  4506 13785  4183  1508 11574  1578  4538   693  3192 15514 14161\n",
      " 14812  8312  4529  4630  8343 19149  7022  2049  4524  8028  4597  7799\n",
      " 11361 15950  2343  6533  7489  8552 12411  1906  8897 12243  3924  9943\n",
      "  6454  9408  1022  1103  3725 16825  8340 11509 14910  4237 17044 16406\n",
      " 16162  9942 16791  1815]\n",
      "[16617  1108  9913 14759  2010 12882  8498  8214  4520 19107 14738  3998\n",
      "   776  8499  6331  3235 18982 14144 16814   261 14817  3923  2267   375\n",
      "  4608   987 10217  8492   342 15193  8384  7791   950 14754 17015 15057\n",
      " 19040 14459  3087 14721  4536 16707  6518 12322   138 15091  9494  8400\n",
      " 15733  6366  8472 19059 16815 11255  9409  4227   889 15390  4381  1015\n",
      "  9541  4435 12103  7192  8310  7910 14822 12275 16813  3174 14709 15481\n",
      " 17177  1293  1087 18290  7786  8309 14627 13577 17508 15082  3401  4432\n",
      " 14269 18061  8456 17525  8013  8809 16614  1612  2828 15112 14700 18391\n",
      " 12549 10826  3115  8454]\n"
     ]
    }
   ],
   "source": [
    "# Получите индексы фичей\n",
    "pos_features = np.argsort(clf.w)[-100:]\n",
    "neg_features = np.argsort(clf.w)[:100]\n",
    "print(pos_features)\n",
    "print(neg_features)"
   ]
  },
  {
   "cell_type": "code",
   "execution_count": 116,
   "metadata": {},
   "outputs": [
    {
     "name": "stdout",
     "output_type": "stream",
     "text": [
      "19175\n",
      "['экспорт', 'золото', 'планирует', 'быть', 'аналогов', 'выручки', 'xretail', 'тгкmoex', 'новатэка', 'месяцев', 'пока', 'wildberries', 'был', 'банка', 'кзос', 'прогнозная', 'северсталь', 'европе', 'сша', 'других', 'новый', '19', 'спг', 'благодаря', 'весь', 'арктик', 'акция', 'повышение', 'рынке', 'раза', 'может', 'продажа', 'акцию', 'алроса', 'газпромнефти', 'себя', 'рдв', 'эмитент', 'group', 'состав', 'акций', 'бизнеса', 'справедливых', 'русал', 'портфеля', 'куйбышев', 'газа', 'цена', 'из', 'дивдоходность', 'проявили', 'даже', 'азот', 'повышена', 'актуальный', 'дивиденды', 'enel', 'всех', 'следующие', 'распадская', 'русаква', 'мире', 'дивидендный', 'до', 'ммк', 'яндекса', 'компания', 'белуга', 'дивидендного', 'мать', 'дитя', 'лучше', 'пик', 'составит', 'будет', 'источников', 'куйбышевазот', 'на', 'потенциал', 'аэрофлота', 'не', 'портфель', 'года', 'огкmoex', 'искч', 'нлмк', 'neo', 'putinomics', 'газпрома', 'тгк', 'млрд', 'по', 'самолет', 'даунсайд', 'ткс', 'стоимость', 'справедливая', 'огк', 'таргет', 'апсайд']\n",
      "['сургутнефтегаз', 'qiwi', 'обычка', 'руб', 'башнефть', 'преф', 'мсфо', 'мечел', 'дивидендах', 'юнипро', 'ростелеком', 'госа', 'globaltrans', 'мтс', 'интер', 'втб', 'энел', 'рао', 'татнефть', '3кв2021', 'русала', 'год', 'больших', '6мес2020', 'для', 'moex', 'операционные', 'мр', '5g', 'селигдар', 'могут', 'лукойл', 'mail', 'рсбу', 'техов', 'своих', 'эталон', 'результаты', 'воса', 'российских', 'дивидендом', 'счёт', 'исторические', 'поставлена', '2020', 'сд', 'норникель', 'можно', 'совкомфлот', 'интеррао', 'мосэнерго', 'этого', 'таттелеком', 'пересмотр', 'нмтп', 'данных', 'iкв2021', 'скажется', 'день', 'nasdaq', 'оа', 'детского', 'полюса', 'конференц', 'мира', 'максимумы', 'русгидро', 'последний', 'татнефти', 'время', 'россетей', 'слабости', 'транснефть', 'veon', 'plzl', 'хretail', 'лср', 'мир', 'ритейле', 'происходит', 'угроза', 'связи', 'выигрывают', 'детский', 'растущие', 'февраль', 'мосбиржи', 'ударом', 'математическая', 'настало', 'сургут', 'акциях', 'владеет', 'сделка', 'роснефти', 'хорошо', 'пошлин', 'отчитается', 'восстановления', 'мосбиржа']\n"
     ]
    }
   ],
   "source": [
    "# Выведите слова\n",
    "fnames = vectorizer.get_feature_names()\n",
    "print(len(fnames))\n",
    "print([fnames[p] for p in pos_features])\n",
    "print([fnames[n] for n in neg_features])"
   ]
  },
  {
   "cell_type": "code",
   "execution_count": 117,
   "metadata": {},
   "outputs": [],
   "source": [
    "pos_words = [fnames[p] for p in pos_features]\n",
    "pos_res = {}\n",
    "for word in pos_words:\n",
    "    for sentense in review_summaries:\n",
    "        pos_res.setdefault(word, 0)\n",
    "        pos_res[word] += sentense.count(word)"
   ]
  },
  {
   "cell_type": "code",
   "execution_count": 118,
   "metadata": {},
   "outputs": [
    {
     "name": "stdout",
     "output_type": "stream",
     "text": [
      "{'экспорт': 219, 'золото': 143, 'планирует': 178, 'быть': 200, 'аналогов': 114, 'выручки': 344, 'xretail': 255, 'тгкmoex': 13, 'новатэка': 179, 'месяцев': 111, 'пока': 510, 'wildberries': 45, 'был': 1057, 'банка': 321, 'кзос': 36, 'прогнозная': 28, 'северсталь': 138, 'европе': 231, 'сша': 268, 'других': 103, 'новый': 119, '19': 80, 'спг': 416, 'благодаря': 225, 'весь': 75, 'арктик': 77, 'акция': 290, 'повышение': 71, 'рынке': 340, 'раза': 407, 'может': 1471, 'продажа': 62, 'акцию': 398, 'алроса': 163, 'газпромнефти': 44, 'себя': 55, 'рдв': 909, 'эмитент': 56, 'group': 392, 'состав': 1073, 'акций': 1117, 'бизнеса': 197, 'справедливых': 47, 'русал': 314, 'портфеля': 268, 'куйбышев': 206, 'газа': 298, 'цена': 655, 'из': 4194, 'дивдоходность': 183, 'проявили': 17, 'даже': 201, 'азот': 265, 'повышена': 59, 'актуальный': 226, 'дивиденды': 397, 'enel': 57, 'всех': 154, 'следующие': 121, 'распадская': 12, 'русаква': 73, 'мире': 227, 'дивидендный': 236, 'до': 6284, 'ммк': 151, 'яндекса': 190, 'компания': 929, 'белуга': 144, 'дивидендного': 221, 'мать': 232, 'дитя': 209, 'лучше': 91, 'пик': 154, 'составит': 336, 'будет': 592, 'источников': 320, 'куйбышевазот': 138, 'на': 12902, 'потенциал': 381, 'аэрофлота': 140, 'не': 9441, 'портфель': 239, 'года': 1340, 'огкmoex': 23, 'искч': 227, 'нлмк': 206, 'neo': 72, 'putinomics': 74, 'газпрома': 209, 'тгк': 68, 'млрд': 1351, 'по': 11268, 'самолет': 158, 'даунсайд': 130, 'ткс': 220, 'стоимость': 822, 'справедливая': 702, 'огк': 215, 'таргет': 335, 'апсайд': 963}\n"
     ]
    }
   ],
   "source": [
    "print(pos_res)"
   ]
  },
  {
   "cell_type": "code",
   "execution_count": 119,
   "metadata": {},
   "outputs": [],
   "source": [
    "neg_words = [fnames[p] for p in neg_features]\n",
    "neg_res = {}\n",
    "for word in neg_words:\n",
    "    for sentense in review_summaries:\n",
    "        neg_res.setdefault(word, 0)\n",
    "        neg_res[word] += sentense.count(word)"
   ]
  },
  {
   "cell_type": "code",
   "execution_count": 120,
   "metadata": {},
   "outputs": [
    {
     "name": "stdout",
     "output_type": "stream",
     "text": [
      "{'сургутнефтегаз': 457, 'qiwi': 87, 'обычка': 104, 'руб': 3608, 'башнефть': 76, 'преф': 588, 'мсфо': 277, 'мечел': 108, 'дивидендах': 131, 'юнипро': 227, 'ростелеком': 215, 'госа': 99, 'globaltrans': 60, 'мтс': 546, 'интер': 440, 'втб': 243, 'энел': 156, 'рао': 184, 'татнефть': 144, '3кв2021': 29, 'русала': 136, 'год': 3726, 'больших': 43, '6мес2020': 35, 'для': 1049, 'moex': 964, 'операционные': 105, 'мр': 400, '5g': 52, 'селигдар': 27, 'могут': 435, 'лукойл': 268, 'mail': 322, 'рсбу': 78, 'техов': 11, 'своих': 77, 'эталон': 59, 'результаты': 262, 'воса': 36, 'российских': 130, 'дивидендом': 135, 'счёт': 128, 'исторические': 12, 'поставлена': 12, '2020': 278, 'сд': 383, 'норникель': 212, 'можно': 301, 'совкомфлот': 104, 'интеррао': 32, 'мосэнерго': 95, 'этого': 175, 'таттелеком': 34, 'пересмотр': 32, 'нмтп': 56, 'данных': 53, 'iкв2021': 98, 'скажется': 43, 'день': 305, 'nasdaq': 46, 'оа': 26, 'детского': 137, 'полюса': 57, 'конференц': 77, 'мира': 191, 'максимумы': 23, 'русгидро': 152, 'последний': 171, 'татнефти': 83, 'время': 243, 'россетей': 88, 'слабости': 8, 'транснефть': 37, 'veon': 57, 'plzl': 9, 'хretail': 17, 'лср': 32, 'мир': 902, 'ритейле': 169, 'происходит': 45, 'угроза': 63, 'связи': 83, 'выигрывают': 32, 'детский': 144, 'растущие': 14, 'февраль': 8, 'мосбиржи': 49, 'ударом': 16, 'математическая': 8, 'настало': 12, 'сургут': 525, 'акциях': 90, 'владеет': 64, 'сделка': 44, 'роснефти': 170, 'хорошо': 26, 'пошлин': 19, 'отчитается': 21, 'восстановления': 62, 'мосбиржа': 59}\n"
     ]
    }
   ],
   "source": [
    "print(neg_res)"
   ]
  },
  {
   "cell_type": "code",
   "execution_count": null,
   "metadata": {},
   "outputs": [],
   "source": []
  },
  {
   "cell_type": "code",
   "execution_count": 87,
   "metadata": {},
   "outputs": [
    {
     "name": "stdout",
     "output_type": "stream",
     "text": [
      "iteration 0 / 1000: loss 0.694119\n",
      "iteration 100 / 1000: loss 0.648309\n",
      "iteration 200 / 1000: loss 0.627619\n",
      "iteration 300 / 1000: loss 0.623704\n",
      "iteration 400 / 1000: loss 0.615558\n",
      "iteration 500 / 1000: loss 0.608264\n",
      "iteration 600 / 1000: loss 0.595992\n",
      "iteration 700 / 1000: loss 0.622461\n",
      "iteration 800 / 1000: loss 0.612439\n",
      "iteration 900 / 1000: loss 0.622262\n"
     ]
    },
    {
     "data": {
      "text/plain": [
       "<dmia.classifiers.logistic_regression.LogisticRegression at 0x1aaf475b448>"
      ]
     },
     "execution_count": 87,
     "metadata": {},
     "output_type": "execute_result"
    }
   ],
   "source": [
    "# Обучите модель\n",
    "vectorizer = TfidfVectorizer(max_features=3000)\n",
    "X = vectorizer.fit_transform(review_summaries)\n",
    "y = train_df['up_class'].values\n",
    "clf = LogisticRegression()\n",
    "clf.train(X, y, verbose=True, learning_rate=1.0, num_iters=1000, batch_size=256, reg=1e-3)"
   ]
  },
  {
   "cell_type": "code",
   "execution_count": 24,
   "metadata": {},
   "outputs": [
    {
     "data": {
      "text/plain": [
       "3001"
      ]
     },
     "execution_count": 24,
     "metadata": {},
     "output_type": "execute_result"
    }
   ],
   "source": [
    "len(clf.w)"
   ]
  },
  {
   "cell_type": "code",
   "execution_count": 26,
   "metadata": {},
   "outputs": [
    {
     "name": "stdout",
     "output_type": "stream",
     "text": [
      "3000\n"
     ]
    }
   ],
   "source": [
    "fnames = vectorizer.get_feature_names()\n",
    "print(len(fnames))"
   ]
  },
  {
   "cell_type": "code",
   "execution_count": 61,
   "metadata": {},
   "outputs": [
    {
     "name": "stdout",
     "output_type": "stream",
     "text": [
      "['алроса', 'возглавит', 'aramco', 'весеннем', 'великобритании', 'xretailgroup', 'вечерней', '36', 'агентам', 'весны', 'general', 'биржа', '3к16', 'букмекеров', '2014годах', 'value', 'ecommerce', 'безрисковая', '2кв', 'больных', 'апатитового', 'возбуждают', 'go', '35', 'борьбы', 'coca', '4месяцев', 'urals', 'вносил', 'бюджете', 'nsvz', 'внедрения', 'morgan', 'baltic', 'александра', '14x', '2023году', 'partners', 'бесплатное', 'вами', 'введут', 'samsung', '30', 'driftwood', 'ангарском', 'вероятнее', 'введению', 'бонда', 'атаку', 'большинства', 'бизнесмены', 'sales', '20х', '2020', '9млрд', '2021годы', '2023год', 'анатолий', 'возможном', '44', 'акра', 'ddm', 'вариант', 'stanley', 'van', '1756', 'внебиржевом', '2кви', 'diageo', 'delta', 'аудиториями', 'vix', 'авторитетных', 'buy', 'teleпоказывает', '2022', 'ebitdaх', 'благоприятные', 'monitor', 'августу', 'атаки', 'emea', 'baron', 'веса', 'анализе', '3450', '1п', '1пна', 'аналогично', 'valzdez', 'metro', 'xили', 'бренди', 'covid', 'вечной', 'ведомства', 'введенных', 'аккуратность', 'верхней', '2года']\n",
      "['верно', '1псоставит', 'возмещение', 'аккумуляторного', 'бама', '32', 'большим', 'delivery', 'xв', 'uber', 'carnival', '1м2021', 'xвдвое', 'возвел', 'больше', 'maps', 'биотопливо', '1900', '1029468769', '160', 'business', 'верхушкой', 'бонус', 'большему', '11', 'близкий', 'ebitdа', '40руб', 'upd', '10млрд', 'акцией', 'whatsapp', 'dow', 'cредства', 'mastecard', 'xretail', 'виток', '8к', 'vk', '__капитализация', 'cеверному', 'бумажного', 'буде', 'будущем', 'vs', 'consumer', '290', 'верят', 'влиять', 'большего', '08', 'возвращения', 'борется', 'архитектура', '2013гг', 'агропрома', 'вернет', 'возвращаются', 'teleдля', '2025', 'ветряную', 'будущее', 'атомную', 'быстрого', 'влияет', 'вакцинировалась', '1млн', 'богатства', '1qпадение', 'vimpelcom', 'водороде', 'виде', 'tcs', 'аммиаком', 'водородные', 'брифинг', 'bastion', 'владельцы', '17рублей', 'атрофии', 'альтернативно', 'mmbtu', 'бытовой', '1пг', 'spotify', 'взлётом', 'ahead', 'внеплановые', 'болезней', 'артемис', 'авиакиросин', 'болезни', 'jpmorgan', 'polymetal', '2го', 'богатейшие', 'биткоин', 'вакцине', 'ru', 'вакциной']\n"
     ]
    }
   ],
   "source": [
    "# Выведите слова\n",
    "fnames = vectorizer.get_feature_names()\n",
    "print([fnames[p-1] for p in pos_features])\n",
    "print([fnames[n-1] for n in neg_features])"
   ]
  },
  {
   "cell_type": "code",
   "execution_count": 65,
   "metadata": {},
   "outputs": [],
   "source": [
    "pos_words = [fnames[p-1] for p in pos_features]\n",
    "pos_res = {}\n",
    "for word in pos_words:\n",
    "    for sentense in review_summaries:\n",
    "        pos_res.setdefault(word, 0)\n",
    "        pos_res[word] += sentense.count(word)"
   ]
  },
  {
   "cell_type": "code",
   "execution_count": null,
   "metadata": {},
   "outputs": [],
   "source": [
    "neg_words = [fnames[p-1] for p in neg_features]\n",
    "pos_res = {}\n",
    "for word in pos_words:\n",
    "    for sentense in review_summaries:\n",
    "        pos_res.setdefault(word, 0)\n",
    "        pos_res[word] += sentense.count(word)"
   ]
  },
  {
   "cell_type": "code",
   "execution_count": 66,
   "metadata": {},
   "outputs": [
    {
     "name": "stdout",
     "output_type": "stream",
     "text": [
      "{'алроса': 163, 'возглавит': 3, 'aramco': 1, 'весеннем': 1, 'великобритании': 6, 'xretailgroup': 4, 'вечерней': 1, '36': 6, 'агентам': 1, 'весны': 6, 'general': 3, 'биржа': 82, '3к16': 1, 'букмекеров': 6, '2014годах': 2, 'value': 6, 'ecommerce': 1, 'безрисковая': 1, '2кв': 28, 'больных': 6, 'апатитового': 1, 'возбуждают': 1, 'go': 39, '35': 12, 'борьбы': 4, 'coca': 2, '4месяцев': 1, 'urals': 3, 'вносил': 1, 'бюджете': 5, 'nsvz': 1, 'внедрения': 2, 'morgan': 19, 'baltic': 1, 'александра': 1, '14x': 1, '2023году': 1, 'partners': 2, 'бесплатное': 2, 'вами': 66, 'введут': 2, 'samsung': 1, '30': 30, 'driftwood': 1, 'ангарском': 2, 'вероятнее': 2, 'введению': 2, 'бонда': 2, 'атаку': 3, 'большинства': 15, 'бизнесмены': 1, 'sales': 5, '20х': 2, '2020': 278, '9млрд': 1, '2021годы': 4, '2023год': 3, 'анатолий': 1, 'возможном': 13, '44': 8, 'акра': 1, 'ddm': 1, 'вариант': 33, 'stanley': 2, 'van': 7, '1756': 1, 'внебиржевом': 5, '2кви': 2, 'diageo': 4, 'delta': 2, 'аудиториями': 1, 'vix': 2, 'авторитетных': 1, 'buy': 45, 'teleпоказывает': 1, '2022': 15, 'ebitdaх': 3, 'благоприятные': 10, 'monitor': 1, 'августу': 1, 'атаки': 1, 'emea': 1, 'baron': 2, 'веса': 17, 'анализе': 2, '3450': 1, '1п': 29, '1пна': 1, 'аналогично': 8, 'valzdez': 1, 'metro': 1, 'xили': 1, 'бренди': 1, 'covid': 65, 'вечной': 1, 'ведомства': 1, 'введенных': 2, 'аккуратность': 3, 'верхней': 7, '2года': 10}\n"
     ]
    }
   ],
   "source": [
    "print(pos_res)"
   ]
  },
  {
   "cell_type": "code",
   "execution_count": 28,
   "metadata": {},
   "outputs": [],
   "source": [
    "from sklearn import linear_model\n",
    "from sklearn.metrics import accuracy_score"
   ]
  },
  {
   "cell_type": "code",
   "execution_count": 29,
   "metadata": {},
   "outputs": [
    {
     "name": "stderr",
     "output_type": "stream",
     "text": [
      "C:\\Users\\amura\\anaconda3\\lib\\site-packages\\sklearn\\linear_model\\_stochastic_gradient.py:557: ConvergenceWarning: Maximum number of iteration reached before convergence. Consider increasing max_iter to improve the fit.\n",
      "  ConvergenceWarning)\n"
     ]
    },
    {
     "data": {
      "text/plain": [
       "SGDClassifier(alpha=0.001, average=False, class_weight=None,\n",
       "              early_stopping=False, epsilon=0.1, eta0=1.0, fit_intercept=True,\n",
       "              l1_ratio=0.15, learning_rate='adaptive', loss='log',\n",
       "              max_iter=1000, n_iter_no_change=100, n_jobs=None, penalty='l2',\n",
       "              power_t=0.5, random_state=42, shuffle=True, tol=0.001,\n",
       "              validation_fraction=0.1, verbose=0, warm_start=False)"
      ]
     },
     "execution_count": 29,
     "metadata": {},
     "output_type": "execute_result"
    }
   ],
   "source": [
    "clf = linear_model.SGDClassifier(n_iter_no_change=100, random_state=42, loss=\"log\", penalty=\"l2\", alpha=1e-3, eta0=1.0, learning_rate=\"adaptive\")\n",
    "clf.fit(X_train, y_train)"
   ]
  },
  {
   "cell_type": "code",
   "execution_count": 30,
   "metadata": {},
   "outputs": [
    {
     "name": "stdout",
     "output_type": "stream",
     "text": [
      "Train accuracy = 0.784\n",
      "Test accuracy = 0.703\n"
     ]
    }
   ],
   "source": [
    "print(\"Train accuracy = %.3f\" % accuracy_score(y_train, clf.predict(X_train)))\n",
    "print(\"Test accuracy = %.3f\" % accuracy_score(y_test, clf.predict(X_test)))"
   ]
  },
  {
   "cell_type": "code",
   "execution_count": null,
   "metadata": {},
   "outputs": [],
   "source": []
  }
 ],
 "metadata": {
  "interpreter": {
   "hash": "844310f489f91ecd2d45d01fd4d53da80a0951f07d01070535b7650b79ce6155"
  },
  "kernelspec": {
   "display_name": "Python 3.7.6 64-bit ('base': conda)",
   "language": "python",
   "name": "python3"
  },
  "language_info": {
   "codemirror_mode": {
    "name": "ipython",
    "version": 3
   },
   "file_extension": ".py",
   "mimetype": "text/x-python",
   "name": "python",
   "nbconvert_exporter": "python",
   "pygments_lexer": "ipython3",
   "version": "3.7.6"
  },
  "orig_nbformat": 4
 },
 "nbformat": 4,
 "nbformat_minor": 2
}
